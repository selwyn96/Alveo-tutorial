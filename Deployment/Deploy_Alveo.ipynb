{
 "cells": [
  {
   "cell_type": "code",
   "execution_count": null,
   "id": "4f55ff72",
   "metadata": {},
   "outputs": [],
   "source": [
    "!source /opt/xilinx/xrt/setup.sh"
   ]
  },
  {
   "cell_type": "code",
   "execution_count": null,
   "id": "00d09e2f",
   "metadata": {},
   "outputs": [],
   "source": [
    "!xbutil examine -d 0000:84:00.1 -r thermal"
   ]
  },
  {
   "cell_type": "code",
   "execution_count": null,
   "id": "4f44297c",
   "metadata": {},
   "outputs": [],
   "source": [
    "import pynq\n",
    "import numpy as np\n",
    "\n",
    "from pynq import allocate\n",
    "from pynq import Overlay\n",
    "\n",
    "from matplotlib import pyplot as plt\n",
    "from datetime import datetime"
   ]
  },
  {
   "cell_type": "code",
   "execution_count": null,
   "id": "5f706e50",
   "metadata": {},
   "outputs": [],
   "source": [
    "import os\n",
    "import shutil\n",
    "parent_dir=os.path.dirname(os.getcwd())\n"
   ]
  },
  {
   "cell_type": "code",
   "execution_count": null,
   "id": "9d1fa76d",
   "metadata": {},
   "outputs": [],
   "source": [
    "# Move the overlays to the working directory\n",
    "overlay_location=parent_dir+'/training/MNIST_Test/HLS_projects/Qkeras_pruned_CNN/hls4ml_alveo_prj/axi_stream_driver.py'\n",
    "shutil.copyfile(overlay_location,'axi_stream_driver.py')"
   ]
  },
  {
   "cell_type": "code",
   "execution_count": null,
   "id": "89befc16",
   "metadata": {},
   "outputs": [],
   "source": [
    "def print_img(matrix, title=\"Label\"):\n",
    "    plt.imshow(matrix, cmap='gray')\n",
    "    plt.title(title)\n",
    "    plt.show()"
   ]
  },
  {
   "cell_type": "code",
   "execution_count": null,
   "id": "7946bf01",
   "metadata": {},
   "outputs": [],
   "source": [
    "# Load the xclbin file to the board\n",
    "from axi_stream_driver import NeuralNetworkOverlay\n",
    "ol = NeuralNetworkOverlay(xclbin_name=\"test3.xclbin\")"
   ]
  },
  {
   "cell_type": "code",
   "execution_count": null,
   "id": "2519ce09",
   "metadata": {},
   "outputs": [],
   "source": [
    "ol.krnl_rtl_1?"
   ]
  },
  {
   "cell_type": "code",
   "execution_count": null,
   "id": "3d60644a",
   "metadata": {},
   "outputs": [],
   "source": [
    "ol.krnl_rtl_1.register_map"
   ]
  },
  {
   "cell_type": "code",
   "execution_count": null,
   "id": "9c21d69a",
   "metadata": {},
   "outputs": [],
   "source": [
    "ol.krnl_rtl_1.signature"
   ]
  },
  {
   "cell_type": "markdown",
   "id": "062e5e0d",
   "metadata": {},
   "source": [
    "### The Inference below is done for the DNN model on the Alveo Board"
   ]
  },
  {
   "cell_type": "code",
   "execution_count": null,
   "id": "1b9d114e",
   "metadata": {},
   "outputs": [],
   "source": [
    "# check the data\n",
    "X_test = np.load(\"../training/MNIST_Test/Data/X_test.npy\")\n",
    "X_test = np.asarray(X_test, dtype = np.float32)"
   ]
  },
  {
   "cell_type": "code",
   "execution_count": null,
   "id": "5091d1c5",
   "metadata": {},
   "outputs": [],
   "source": [
    "i_buff, o_buff = ol.allocate_mem(X_shape=X_test.shape, y_shape=(X_test.shape[0],10), dtype=np.float32)"
   ]
  },
  {
   "cell_type": "code",
   "execution_count": null,
   "id": "4ee35ee5",
   "metadata": {},
   "outputs": [],
   "source": [
    "y, _, rate = ol.predict(X=X_test, y_shape=(X_test.shape[0],10), input_buffer=i_buff, output_buffer=o_buff, profile=True, debug=False)"
   ]
  },
  {
   "cell_type": "code",
   "execution_count": null,
   "id": "33f8f270",
   "metadata": {},
   "outputs": [],
   "source": [
    "np.save(\"../training/MNIST_Test/Data/y_alveo_Dense.npy\", y)"
   ]
  },
  {
   "cell_type": "code",
   "execution_count": null,
   "id": "1b6d4656",
   "metadata": {},
   "outputs": [],
   "source": [
    "ol.free_overlay()"
   ]
  },
  {
   "cell_type": "code",
   "execution_count": null,
   "id": "62094aa9",
   "metadata": {
    "jupyter": {
     "outputs_hidden": false
    },
    "pycharm": {
     "name": "#%%\n"
    }
   },
   "outputs": [],
   "source": [
    "i_buff, o_buff = ol.allocate_mem(X_shape=X_test.shape, y_shape=(X_test.shape[0],10), dtype=np.float32)"
   ]
  },
  {
   "cell_type": "code",
   "execution_count": null,
   "id": "1fc12e0f",
   "metadata": {},
   "outputs": [],
   "source": [
    "N_it = 100\n",
    "rate_v  = []\n",
    "for i in range(N_it):\n",
    "    N = int(((i+1)*X_test.shape[0]/N_it))\n",
    "    in_size = np.linspace(X_test.shape[0]/N_it, X_test.shape[0], N_it, dtype=np.int32)\n",
    "    i_buff[:N] = X_test[:N]\n",
    "    y, _, rate = ol.predict(X=X_test[:N], y_shape=(N,10), input_buffer=i_buff[:N], output_buffer=o_buff[:N], profile=True, debug=False)\n",
    "    rate_v.append(rate)"
   ]
  },
  {
   "cell_type": "code",
   "execution_count": null,
   "id": "89545655",
   "metadata": {},
   "outputs": [],
   "source": [
    "plt.plot(in_size, rate_v)"
   ]
  },
  {
   "cell_type": "code",
   "execution_count": null,
   "id": "2154c5cb",
   "metadata": {},
   "outputs": [],
   "source": [
    "for i in range(5):\n",
    "    img_title = ('Predicted label: %d' % np.argmax(np.array(y[i])))\n",
    "    print_img(X_test[i], img_title)"
   ]
  },
  {
   "cell_type": "code",
   "execution_count": null,
   "id": "84a75e98",
   "metadata": {},
   "outputs": [],
   "source": [
    "y_alveo = y"
   ]
  },
  {
   "cell_type": "code",
   "execution_count": null,
   "id": "32489f2b",
   "metadata": {},
   "outputs": [],
   "source": [
    "%matplotlib inline\n",
    "from sklearn.metrics import accuracy_score\n",
    "from tensorflow.keras.models import load_model\n",
    "import plotting\n",
    "\n",
    "#model_ref = load_model(MODEL_PATH + 'Keras_only/KERAS_check_best_model.h5')\n",
    "#with tf.device('/cpu:0'):\n",
    "#    y_ref = model_ref.predict(X_test)\n",
    "\n",
    "y_test = np.load(\"../NN_train/MNIST_Test/Data/y_test.npy\")\n",
    "y_test.astype(np.float32)\n",
    "y_hls = np.load(\"../NN_train/MNIST_Test/Data/y_hls_Dense.npy\")\n",
    "y_hls.astype(np.float32)\n",
    "\n",
    "#print(\"Accuracy baseline:  {}\".format(accuracy_score(np.argmax(y_test, axis=1), np.argmax(y_ref, axis=1))))\n",
    "print(\"Accuracy hls4ml: {}\".format(accuracy_score(np.argmax(y_test, axis=1), np.argmax(y_hls, axis=1))))\n",
    "print(\"Accuracy FPGA: {}\".format(accuracy_score(np.argmax(y_test, axis=1), np.argmax(y_alveo, axis=1))))\n",
    "\n",
    "fig, ax = plt.subplots(figsize=(9, 9))\n",
    "#_ = plotting.makeRoc(y_test, y_ref, classes)\n",
    "#plt.gca().set_prop_cycle(None) # reset the colors\n",
    "_ = plotting.makeRoc(y_test, y_hls, [\"0\", \"1\", \"2\", \"3\", \"4\", \"5\", \"6\", \"7\", \"8\", \"9\"], linestyle='--')\n",
    "plt.gca().set_prop_cycle(None) # reset the colors\n",
    "_ = plotting.makeRoc(y_test, y_alveo   , [\"0\", \"1\", \"2\", \"3\", \"4\", \"5\", \"6\", \"7\", \"8\", \"9\"], linestyle=':')\n",
    "\n",
    "from matplotlib.lines import Line2D\n",
    "lines = [#Line2D([0], [0], ls='-'),\n",
    "         Line2D([0], [0], ls='--'),\n",
    "         Line2D([0], [0], ls=':')]\n",
    "from matplotlib.legend import Legend\n",
    "leg = Legend(ax, lines, labels=['hls4ml', 'alveo'],\n",
    "            loc='lower right', frameon=False)\n",
    "ax.add_artist(leg)"
   ]
  },
  {
   "cell_type": "markdown",
   "id": "b3e80986",
   "metadata": {},
   "source": [
    "## Power measures"
   ]
  },
  {
   "cell_type": "code",
   "execution_count": null,
   "id": "0e2a610d",
   "metadata": {},
   "outputs": [],
   "source": [
    "from pynq import Device\n",
    "\n",
    "sensors = Device.active_device.sensors\n",
    "sensors"
   ]
  },
  {
   "cell_type": "code",
   "execution_count": null,
   "id": "1fab9074",
   "metadata": {},
   "outputs": [],
   "source": [
    "from pynq.pmbus import DataRecorder\n",
    "\n",
    "recorder = DataRecorder(sensors[\"12v_aux\"].power,\n",
    "                        sensors[\"12v_pex\"].power,\n",
    "                        sensors[\"vccint\"].power)"
   ]
  },
  {
   "cell_type": "code",
   "execution_count": null,
   "id": "2de813d8",
   "metadata": {},
   "outputs": [],
   "source": [
    "import pandas as pd\n",
    "\n",
    "f = recorder.frame"
   ]
  },
  {
   "cell_type": "code",
   "execution_count": null,
   "id": "2b5a25f3",
   "metadata": {},
   "outputs": [],
   "source": [
    "recorder.record(0.1)"
   ]
  },
  {
   "cell_type": "code",
   "execution_count": null,
   "id": "15cefae1",
   "metadata": {},
   "outputs": [],
   "source": [
    "f.head()"
   ]
  },
  {
   "cell_type": "code",
   "execution_count": null,
   "id": "dd56de3b",
   "metadata": {},
   "outputs": [],
   "source": [
    "import plotly.graph_objs as go\n",
    "\n",
    "layout = {\n",
    "    'xaxis': {\n",
    "        'title': 'Time (s)'\n",
    "    },\n",
    "    'yaxis': {\n",
    "        'title': 'Power (W)',\n",
    "        'rangemode': 'tozero',\n",
    "        'autorange': True\n",
    "    }\n",
    "}\n",
    "\n",
    "plot = go.FigureWidget(layout=layout)\n",
    "plot"
   ]
  },
  {
   "cell_type": "code",
   "execution_count": null,
   "id": "f0ebbf4f",
   "metadata": {},
   "outputs": [],
   "source": [
    "def update_data(frame, start, end, plot):\n",
    "    ranged = frame[start:end]\n",
    "    average_ranged = frame[start-pd.tseries.offsets.Second(5):end]\n",
    "    rolling = (average_ranged['12v_aux_power'] + average_ranged['12v_pex_power']).rolling(\n",
    "        pd.tseries.offsets.Second(5)\n",
    "    ).mean()[ranged.index]\n",
    "    powers = pd.DataFrame(index=ranged.index)\n",
    "    powers['board_power'] = ranged['12v_aux_power'] + ranged['12v_pex_power']\n",
    "    powers['rolling'] = rolling\n",
    "    data = [\n",
    "        go.Scatter(x=powers.index, y=powers['board_power'], name=\"Board Power\"),\n",
    "        go.Scatter(x=powers.index, y=powers['rolling'], name=\"5 Second Avg\")\n",
    "    ]\n",
    "    plot.update(data=data)\n"
   ]
  },
  {
   "cell_type": "code",
   "execution_count": null,
   "id": "28370aa3",
   "metadata": {},
   "outputs": [],
   "source": [
    "import threading\n",
    "import time\n",
    "\n",
    "do_update = True\n",
    "\n",
    "def thread_func():\n",
    "    while do_update:\n",
    "        now = pd.Timestamp.fromtimestamp(time.time())\n",
    "        past = now - pd.tseries.offsets.Second(60)\n",
    "        update_data(recorder.frame, past, now, plot)\n",
    "        time.sleep(0.5)\n",
    "\n",
    "from threading import Thread\n",
    "t = Thread(target=thread_func)\n",
    "t.start()"
   ]
  },
  {
   "cell_type": "code",
   "execution_count": null,
   "id": "50848245",
   "metadata": {},
   "outputs": [],
   "source": [
    "do_update = False\n",
    "t.join()\n",
    "recorder.stop()"
   ]
  },
  {
   "cell_type": "code",
   "execution_count": null,
   "id": "880fa1ae",
   "metadata": {},
   "outputs": [],
   "source": []
  }
 ],
 "metadata": {
  "kernelspec": {
   "display_name": "Python 3 (ipykernel)",
   "language": "python",
   "name": "python3"
  },
  "language_info": {
   "codemirror_mode": {
    "name": "ipython",
    "version": 3
   },
   "file_extension": ".py",
   "mimetype": "text/x-python",
   "name": "python",
   "nbconvert_exporter": "python",
   "pygments_lexer": "ipython3",
   "version": "3.8.13"
  }
 },
 "nbformat": 4,
 "nbformat_minor": 5
}
